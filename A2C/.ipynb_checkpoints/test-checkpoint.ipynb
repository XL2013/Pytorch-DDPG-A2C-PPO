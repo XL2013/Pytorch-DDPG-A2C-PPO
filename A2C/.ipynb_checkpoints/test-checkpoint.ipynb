{
 "cells": [
  {
   "cell_type": "code",
   "execution_count": 1,
   "metadata": {
    "collapsed": true
   },
   "outputs": [],
   "source": [
    "import torch\n",
    "import torch.nn as nn\n",
    "import torch.nn.functional as F\n",
    "import torch.optim as optim\n",
    "import numpy as np\n",
    "from torch.autograd import Variable\n",
    "\n",
    "import matplotlib.pyplot as plt\n",
    "%matplotlib inline\n",
    "\n",
    "from IPython import display\n",
    "import gym\n",
    "from envs import make_env\n",
    "from subproc_vec_env import SubprocVecEnv\n",
    "from model import CNNPolicy\n",
    "from storage import RolloutStorage\n",
    "import time\n",
    "import cv2\n",
    "\n"
   ]
  },
  {
   "cell_type": "code",
   "execution_count": 2,
   "metadata": {
    "collapsed": true
   },
   "outputs": [],
   "source": [
    "def wrap_frame(image):\n",
    "    width = 84\n",
    "    height = 84\n",
    "    frame = cv2.cvtColor(image, cv2.COLOR_RGB2GRAY)\n",
    "    frame = cv2.resize(frame, (width, height), interpolation=cv2.INTER_AREA)\n",
    "    return frame[:,:,None]\n",
    "def update_current_obs_test(c_obs, obs):\n",
    "    shape_dim0 = 1\n",
    "    obs = torch.from_numpy(obs).float()\n",
    "    if num_stack > 1:\n",
    "        current_obs[:, :-shape_dim0] = current_obs[:, shape_dim0:]\n",
    "    current_obs[:, -shape_dim0:] = obs"
   ]
  },
  {
   "cell_type": "code",
   "execution_count": 4,
   "metadata": {
    "collapsed": true
   },
   "outputs": [],
   "source": [
    "env_name = 'BreakoutNoFrameskip-v4'\n",
    "num_stack = 4\n",
    "cuda = True\n",
    "actor_critic = torch.load( '../../models/'+env_name+'.pts')"
   ]
  },
  {
   "cell_type": "code",
   "execution_count": 5,
   "metadata": {},
   "outputs": [
    {
     "name": "stdout",
     "output_type": "stream",
     "text": [
      "CNNPolicy(\n",
      "  (conv1): Conv2d (4, 32, kernel_size=(8, 8), stride=(4, 4))\n",
      "  (conv2): Conv2d (32, 64, kernel_size=(4, 4), stride=(2, 2))\n",
      "  (conv3): Conv2d (64, 32, kernel_size=(3, 3), stride=(1, 1))\n",
      "  (linear1): Linear(in_features=1568, out_features=512)\n",
      "  (critic_linear): Linear(in_features=512, out_features=1)\n",
      "  (dist): Categorical(\n",
      "    (linear): Linear(in_features=512, out_features=4)\n",
      "  )\n",
      ")\n"
     ]
    }
   ],
   "source": [
    "print(actor_critic)"
   ]
  },
  {
   "cell_type": "code",
   "execution_count": 6,
   "metadata": {},
   "outputs": [
    {
     "name": "stderr",
     "output_type": "stream",
     "text": [
      "[2018-01-19 14:39:04,604] Making new env: BreakoutNoFrameskip-v4\n"
     ]
    },
    {
     "name": "stdout",
     "output_type": "stream",
     "text": [
      "torch.Size([1, 4, 84, 84])\n"
     ]
    }
   ],
   "source": [
    "t_env = gym.make('BreakoutNoFrameskip-v4')\n",
    "\n",
    "print(current_obs.shape)\n"
   ]
  },
  {
   "cell_type": "code",
   "execution_count": 33,
   "metadata": {},
   "outputs": [],
   "source": [
    "obs = t_env.reset()\n",
    "obs_shape = (4,84,84)\n",
    "current_obs = torch.zeros(1, *obs_shape)\n",
    "states = torch.zeros(1, actor_critic.state_size)\n",
    "masks = torch.zeros(1, 1)\n",
    "update_current_obs_test(current_obs, wrap_frame(obs))"
   ]
  },
  {
   "cell_type": "code",
   "execution_count": 34,
   "metadata": {},
   "outputs": [
    {
     "name": "stdout",
     "output_type": "stream",
     "text": [
      "<class 'numpy.ndarray'>\n"
     ]
    },
    {
     "data": {
      "text/plain": [
       "<matplotlib.image.AxesImage at 0x7f3b2e2956a0>"
      ]
     },
     "execution_count": 34,
     "metadata": {},
     "output_type": "execute_result"
    },
    {
     "data": {
      "image/png": "[encoded data removed]",
      "text/plain": [
       "<matplotlib.figure.Figure at 0x7f3b2c28da90>"
      ]
     },
     "metadata": {},
     "output_type": "display_data"
    }
   ],
   "source": [
    "print(type(obs))\n",
    "plt.imshow(obs)"
   ]
  },
  {
   "cell_type": "code",
   "execution_count": null,
   "metadata": {},
   "outputs": [
    {
     "data": {
      "image/png": "[encoded data removed]",
      "text/plain": [
       "<matplotlib.figure.Figure at 0x7f3b2c3f59e8>"
      ]
     },
     "metadata": {},
     "output_type": "display_data"
    }
   ],
   "source": [
    "for i in range(1000):\n",
    "    if cuda:\n",
    "        current_obs = current_obs.cuda()\n",
    "        states = states.cuda()\n",
    "        masks = masks.cuda()\n",
    "        \n",
    "    plt.imshow(obs)\n",
    "    display.display(plt.gcf())\n",
    "    display.clear_output(wait=True)\n",
    "    \n",
    "    value, action, _, states = actor_critic.act(Variable(current_obs, volatile=True),\n",
    "                                                Variable(states, volatile=True),\n",
    "                                                Variable(masks, volatile=True),\n",
    "                                                deterministic=True)\n",
    "    states = states.data\n",
    "    cpu_actions = action.data.squeeze(1).cpu().numpy()\n",
    "    # Obser reward and next obs\n",
    "    obs, reward, done, _ = t_env.step(cpu_actions)\n",
    "    if done:\n",
    "        print(done)\n",
    "        break\n",
    "    masks.fill_(0.0 if done else 1.0)\n",
    "\n",
    "    if current_obs.dim() == 4:\n",
    "        current_obs *= masks.unsqueeze(2).unsqueeze(2)\n",
    "    else:\n",
    "        current_obs *= masks\n",
    "    update_current_obs_test(current_obs, wrap_frame(obs))"
   ]
  },
  {
   "cell_type": "code",
   "execution_count": null,
   "metadata": {
    "collapsed": true
   },
   "outputs": [],
   "source": []
  }
 ],
 "metadata": {
  "kernelspec": {
   "display_name": "Python 3",
   "language": "python",
   "name": "python3"
  },
  "language_info": {
   "codemirror_mode": {
    "name": "ipython",
    "version": 3
   },
   "file_extension": ".py",
   "mimetype": "text/x-python",
   "name": "python",
   "nbconvert_exporter": "python",
   "pygments_lexer": "ipython3",
   "version": "3.6.3"
  }
 },
 "nbformat": 4,
 "nbformat_minor": 2
}
